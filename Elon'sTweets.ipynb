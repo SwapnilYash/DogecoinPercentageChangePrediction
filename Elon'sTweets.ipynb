{
  "nbformat": 4,
  "nbformat_minor": 0,
  "metadata": {
    "colab": {
      "name": "Elon'sTweets.ipynb",
      "provenance": [],
      "collapsed_sections": []
    },
    "kernelspec": {
      "name": "python3",
      "display_name": "Python 3"
    },
    "language_info": {
      "name": "python"
    }
  },
  "cells": [
    {
      "cell_type": "code",
      "metadata": {
        "id": "HnFRE5URjm-i"
      },
      "source": [
        "# importing twint api for extarcing tweets\n",
        "# asyncio for event handling were we have to give our input output async function\n",
        "import twint\n",
        "import nest_asyncio"
      ],
      "execution_count": null,
      "outputs": []
    },
    {
      "cell_type": "code",
      "metadata": {
        "id": "eHpOer6SkHrS"
      },
      "source": [
        "# for applying and creating callable response from event loop handler we use apply() function\n",
        "nest_asyncio.apply()"
      ],
      "execution_count": null,
      "outputs": []
    },
    {
      "cell_type": "code",
      "metadata": {
        "id": "XtPhU2gDkLVd"
      },
      "source": [
        "usernames = ['elonmusk']\n",
        "search_for_hashtags=['Doge','Dogecoin']"
      ],
      "execution_count": null,
      "outputs": []
    },
    {
      "cell_type": "code",
      "metadata": {
        "id": "ikopvf4PkN40"
      },
      "source": [
        "for users in usernames:\n",
        "    \n",
        "    for hashtag in search_for_hashtags:\n",
        "    \n",
        "        con = twint.Config()\n",
        "    \n",
        "        con.Username = users\n",
        "        con.Search = hashtag\n",
        "        con.Since = \"2017-04-01\"\n",
        "        con.Custom[\"tweet\"] = [\"date\",\"time\",\"tweet\"]\n",
        "        \n",
        "        # Have to create empty csv file of name elon_tweets in same directory\n",
        "        con.Output = \"elon_tweets.csv\"\n",
        "        con.Store_csv = True\n",
        "        twint.run.Search(con)\n",
        "\n",
        "\n",
        "\n",
        "\n",
        "# Removing Duplicates and Changing Date Format in Excel\n",
        "        "
      ],
      "execution_count": null,
      "outputs": []
    }
  ]
}