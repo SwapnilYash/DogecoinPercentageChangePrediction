{
  "nbformat": 4,
  "nbformat_minor": 0,
  "metadata": {
    "colab": {
      "name": "VaderSentimentScore.ipynb",
      "provenance": []
    },
    "kernelspec": {
      "name": "python3",
      "display_name": "Python 3"
    },
    "language_info": {
      "name": "python"
    }
  },
  "cells": [
    {
      "cell_type": "code",
      "metadata": {
        "id": "D88F-L_Iko5d"
      },
      "source": [
        "import pandas as pd"
      ],
      "execution_count": null,
      "outputs": []
    },
    {
      "cell_type": "code",
      "metadata": {
        "id": "800PRMiGkwFV"
      },
      "source": [
        "from vaderSentiment.vaderSentiment import SentimentIntensityAnalyzer \n",
        "#SentimentIntensityAnalyzer is a class hence we have to create an object for accessing its methods\n",
        "senti = SentimentIntensityAnalyzer()"
      ],
      "execution_count": null,
      "outputs": []
    },
    {
      "cell_type": "code",
      "metadata": {
        "id": "3CB5pfVfkyuJ"
      },
      "source": [
        "ex = pd.read_csv(\"elon_tweets.csv\", encoding=\"ISO-8859-1\")"
      ],
      "execution_count": null,
      "outputs": []
    },
    {
      "cell_type": "code",
      "metadata": {
        "id": "kRy_lFBmkzWb"
      },
      "source": [
        "ex.count"
      ],
      "execution_count": null,
      "outputs": []
    },
    {
      "cell_type": "code",
      "metadata": {
        "id": "YNlDZjSek2HR"
      },
      "source": [
        "# sentence into lists\n",
        "tweetie = ex.Tweet.tolist()"
      ],
      "execution_count": null,
      "outputs": []
    },
    {
      "cell_type": "code",
      "metadata": {
        "id": "_kddD8Z4k6BM"
      },
      "source": [
        "print(len(tweetie))"
      ],
      "execution_count": null,
      "outputs": []
    },
    {
      "cell_type": "code",
      "metadata": {
        "id": "1LaL4Hmkk8gF"
      },
      "source": [
        "final_sc_list=[]"
      ],
      "execution_count": null,
      "outputs": []
    },
    {
      "cell_type": "code",
      "metadata": {
        "id": "k-5qJm0ak_wn"
      },
      "source": [
        "def overallsc(s):\n",
        "    if s['compound'] >= 0.05:\n",
        "        v=\"Overall Positive\"\n",
        "    elif s['compound'] <= -0.05:\n",
        "        v=\"Overall Negavtive\"\n",
        "    else:\n",
        "        v=\"Neutral\"\n",
        "    sub_li = []\n",
        "    sub_li.append(s['neg'])\n",
        "    sub_li.append(s['neu'])\n",
        "    sub_li.append(s['pos'])\n",
        "    sub_li.append(v)\n",
        "    sub_li.append(s['compound'])\n",
        "    final_sc_list.append(sub_li)"
      ],
      "execution_count": null,
      "outputs": []
    },
    {
      "cell_type": "code",
      "metadata": {
        "id": "v60Q5vr2lCSy"
      },
      "source": [
        "for senten in tweetie:\n",
        "    s = senti.polarity_scores(senten)\n",
        "    overallsc(s)"
      ],
      "execution_count": null,
      "outputs": []
    },
    {
      "cell_type": "code",
      "metadata": {
        "id": "Zk6Z_UaAlFcs"
      },
      "source": [
        "len(final_sc_list)"
      ],
      "execution_count": null,
      "outputs": []
    },
    {
      "cell_type": "code",
      "metadata": {
        "id": "ktMfz6eHlHxT"
      },
      "source": [
        "df = pd.DataFrame(final_sc_list)\n",
        "\n",
        "# create empty csv file name sentiment_score.csv in same directory\n",
        "df.to_csv('sentiment_score.csv', index=False, header=False)"
      ],
      "execution_count": null,
      "outputs": []
    },
    {
      "cell_type": "code",
      "metadata": {
        "id": "noTlA3eelH1t"
      },
      "source": [
        "df.head"
      ],
      "execution_count": null,
      "outputs": []
    }
  ]
}